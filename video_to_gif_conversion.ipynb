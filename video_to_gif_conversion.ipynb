{
 "cells": [
  {
   "cell_type": "code",
   "execution_count": 2,
   "id": "bcfa15a6",
   "metadata": {},
   "outputs": [],
   "source": [
    "import cv2\n",
    "import imageio"
   ]
  },
  {
   "cell_type": "code",
   "execution_count": 3,
   "id": "847c8395",
   "metadata": {},
   "outputs": [],
   "source": [
    "def extract_frames(video_path, max_frames=100):\n",
    "    # Capture video\n",
    "    vid = cv2.VideoCapture(video_path)\n",
    "\n",
    "    frames = []\n",
    "    try:\n",
    "        while True:\n",
    "            # Read frame from video\n",
    "            success, frame = vid.read()\n",
    "            if not success:\n",
    "                break\n",
    "\n",
    "            # Convert the color from BGR to RGB\n",
    "            frame = cv2.cvtColor(frame, cv2.COLOR_BGR2RGB)\n",
    "\n",
    "            frames.append(frame)\n",
    "\n",
    "            # Limit the number of frames to save memory\n",
    "            if len(frames) == max_frames:\n",
    "                break\n",
    "    finally:\n",
    "        vid.release()\n",
    "\n",
    "    return frames"
   ]
  },
  {
   "cell_type": "code",
   "execution_count": 4,
   "id": "cb8569be",
   "metadata": {},
   "outputs": [],
   "source": [
    "def save_frames_as_gif(frames, gif_path, fps=10):\n",
    "    # Save frames as GIF\n",
    "    imageio.mimsave(gif_path, frames, fps=fps)"
   ]
  },
  {
   "cell_type": "code",
   "execution_count": 5,
   "id": "444fc3fe",
   "metadata": {},
   "outputs": [],
   "source": [
    "# Paths for the video and the output GIF\n",
    "video_path = '/Users/raymond/Downloads/depth_estimation_1.mp4'\n",
    "gif_path = '/Users/raymond/Downloads/depth_estimation_1.gif'\n",
    "\n",
    "# Extract frames from video\n",
    "frames = extract_frames(video_path)\n",
    "\n",
    "# Save the extracted frames as a GIF\n",
    "save_frames_as_gif(frames, gif_path)"
   ]
  },
  {
   "cell_type": "code",
   "execution_count": null,
   "metadata": {},
   "outputs": [],
   "source": []
  }
 ],
 "metadata": {
  "kernelspec": {
   "display_name": "Python 3",
   "language": "python",
   "name": "python3"
  },
  "language_info": {
   "codemirror_mode": {
    "name": "ipython",
    "version": 3
   },
   "file_extension": ".py",
   "mimetype": "text/x-python",
   "name": "python",
   "nbconvert_exporter": "python",
   "pygments_lexer": "ipython3",
   "version": "3.9.6"
  }
 },
 "nbformat": 4,
 "nbformat_minor": 5
}
